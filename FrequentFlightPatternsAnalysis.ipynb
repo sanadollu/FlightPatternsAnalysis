{
 "cells": [
  {
   "cell_type": "code",
   "execution_count": 1,
   "metadata": {},
   "outputs": [],
   "source": [
    "import numpy as np\n",
    "import pandas as pd\n",
    "import matplotlib.pyplot as plt\n",
    "import seaborn as sns\n",
    "import warnings\n",
    "warnings.filterwarnings(\"ignore\")\n",
    "\n"
   ]
  },
  {
   "cell_type": "code",
   "execution_count": 2,
   "metadata": {},
   "outputs": [],
   "source": [
    "continuous_features = ['duration', 'days_left', 'price']\n",
    "categorical_features = ['airline', 'flight', 'source_city', 'departure_time', 'stops', 'arrival_time', 'destination_city', 'class']"
   ]
  },
  {
   "cell_type": "code",
   "execution_count": 3,
   "metadata": {},
   "outputs": [],
   "source": [
    "df = pd.read_csv('Clean_Dataset.csv')\n",
    "business = pd.read_csv('business.csv')\n",
    "economy = pd.read_csv('economy.csv')"
   ]
  },
  {
   "cell_type": "code",
   "execution_count": 4,
   "metadata": {},
   "outputs": [
    {
     "name": "stdout",
     "output_type": "stream",
     "text": [
      "<class 'pandas.core.frame.DataFrame'>\n",
      "RangeIndex: 300153 entries, 0 to 300152\n",
      "Data columns (total 12 columns):\n",
      " #   Column            Non-Null Count   Dtype  \n",
      "---  ------            --------------   -----  \n",
      " 0   Unnamed: 0        300153 non-null  int64  \n",
      " 1   airline           300153 non-null  object \n",
      " 2   flight            300153 non-null  object \n",
      " 3   source_city       300153 non-null  object \n",
      " 4   departure_time    300153 non-null  object \n",
      " 5   stops             300153 non-null  object \n",
      " 6   arrival_time      300153 non-null  object \n",
      " 7   destination_city  300153 non-null  object \n",
      " 8   class             300153 non-null  object \n",
      " 9   duration          300153 non-null  float64\n",
      " 10  days_left         300153 non-null  int64  \n",
      " 11  price             300153 non-null  int64  \n",
      "dtypes: float64(1), int64(3), object(8)\n",
      "memory usage: 27.5+ MB\n"
     ]
    }
   ],
   "source": [
    "df.info()"
   ]
  },
  {
   "cell_type": "code",
   "execution_count": 5,
   "metadata": {},
   "outputs": [],
   "source": [
    "df=df.drop('Unnamed: 0',axis=1)"
   ]
  },
  {
   "cell_type": "code",
   "execution_count": 6,
   "metadata": {},
   "outputs": [
    {
     "data": {
      "text/html": [
       "<div>\n",
       "<style scoped>\n",
       "    .dataframe tbody tr th:only-of-type {\n",
       "        vertical-align: middle;\n",
       "    }\n",
       "\n",
       "    .dataframe tbody tr th {\n",
       "        vertical-align: top;\n",
       "    }\n",
       "\n",
       "    .dataframe thead th {\n",
       "        text-align: right;\n",
       "    }\n",
       "</style>\n",
       "<table border=\"1\" class=\"dataframe\">\n",
       "  <thead>\n",
       "    <tr style=\"text-align: right;\">\n",
       "      <th></th>\n",
       "      <th>airline</th>\n",
       "      <th>flight</th>\n",
       "      <th>source_city</th>\n",
       "      <th>departure_time</th>\n",
       "      <th>stops</th>\n",
       "      <th>arrival_time</th>\n",
       "      <th>destination_city</th>\n",
       "      <th>class</th>\n",
       "      <th>duration</th>\n",
       "      <th>days_left</th>\n",
       "      <th>price</th>\n",
       "    </tr>\n",
       "  </thead>\n",
       "  <tbody>\n",
       "    <tr>\n",
       "      <th>0</th>\n",
       "      <td>SpiceJet</td>\n",
       "      <td>SG-8709</td>\n",
       "      <td>Delhi</td>\n",
       "      <td>Evening</td>\n",
       "      <td>zero</td>\n",
       "      <td>Night</td>\n",
       "      <td>Mumbai</td>\n",
       "      <td>Economy</td>\n",
       "      <td>2.17</td>\n",
       "      <td>1</td>\n",
       "      <td>5953</td>\n",
       "    </tr>\n",
       "    <tr>\n",
       "      <th>1</th>\n",
       "      <td>SpiceJet</td>\n",
       "      <td>SG-8157</td>\n",
       "      <td>Delhi</td>\n",
       "      <td>Early_Morning</td>\n",
       "      <td>zero</td>\n",
       "      <td>Morning</td>\n",
       "      <td>Mumbai</td>\n",
       "      <td>Economy</td>\n",
       "      <td>2.33</td>\n",
       "      <td>1</td>\n",
       "      <td>5953</td>\n",
       "    </tr>\n",
       "    <tr>\n",
       "      <th>2</th>\n",
       "      <td>AirAsia</td>\n",
       "      <td>I5-764</td>\n",
       "      <td>Delhi</td>\n",
       "      <td>Early_Morning</td>\n",
       "      <td>zero</td>\n",
       "      <td>Early_Morning</td>\n",
       "      <td>Mumbai</td>\n",
       "      <td>Economy</td>\n",
       "      <td>2.17</td>\n",
       "      <td>1</td>\n",
       "      <td>5956</td>\n",
       "    </tr>\n",
       "    <tr>\n",
       "      <th>3</th>\n",
       "      <td>Vistara</td>\n",
       "      <td>UK-995</td>\n",
       "      <td>Delhi</td>\n",
       "      <td>Morning</td>\n",
       "      <td>zero</td>\n",
       "      <td>Afternoon</td>\n",
       "      <td>Mumbai</td>\n",
       "      <td>Economy</td>\n",
       "      <td>2.25</td>\n",
       "      <td>1</td>\n",
       "      <td>5955</td>\n",
       "    </tr>\n",
       "    <tr>\n",
       "      <th>4</th>\n",
       "      <td>Vistara</td>\n",
       "      <td>UK-963</td>\n",
       "      <td>Delhi</td>\n",
       "      <td>Morning</td>\n",
       "      <td>zero</td>\n",
       "      <td>Morning</td>\n",
       "      <td>Mumbai</td>\n",
       "      <td>Economy</td>\n",
       "      <td>2.33</td>\n",
       "      <td>1</td>\n",
       "      <td>5955</td>\n",
       "    </tr>\n",
       "  </tbody>\n",
       "</table>\n",
       "</div>"
      ],
      "text/plain": [
       "    airline   flight source_city departure_time stops   arrival_time  \\\n",
       "0  SpiceJet  SG-8709       Delhi        Evening  zero          Night   \n",
       "1  SpiceJet  SG-8157       Delhi  Early_Morning  zero        Morning   \n",
       "2   AirAsia   I5-764       Delhi  Early_Morning  zero  Early_Morning   \n",
       "3   Vistara   UK-995       Delhi        Morning  zero      Afternoon   \n",
       "4   Vistara   UK-963       Delhi        Morning  zero        Morning   \n",
       "\n",
       "  destination_city    class  duration  days_left  price  \n",
       "0           Mumbai  Economy      2.17          1   5953  \n",
       "1           Mumbai  Economy      2.33          1   5953  \n",
       "2           Mumbai  Economy      2.17          1   5956  \n",
       "3           Mumbai  Economy      2.25          1   5955  \n",
       "4           Mumbai  Economy      2.33          1   5955  "
      ]
     },
     "execution_count": 6,
     "metadata": {},
     "output_type": "execute_result"
    }
   ],
   "source": [
    "df.head()"
   ]
  },
  {
   "cell_type": "code",
   "execution_count": 7,
   "metadata": {},
   "outputs": [
    {
     "data": {
      "text/html": [
       "<div>\n",
       "<style scoped>\n",
       "    .dataframe tbody tr th:only-of-type {\n",
       "        vertical-align: middle;\n",
       "    }\n",
       "\n",
       "    .dataframe tbody tr th {\n",
       "        vertical-align: top;\n",
       "    }\n",
       "\n",
       "    .dataframe thead th {\n",
       "        text-align: right;\n",
       "    }\n",
       "</style>\n",
       "<table border=\"1\" class=\"dataframe\">\n",
       "  <thead>\n",
       "    <tr style=\"text-align: right;\">\n",
       "      <th></th>\n",
       "      <th>duration</th>\n",
       "      <th>days_left</th>\n",
       "      <th>price</th>\n",
       "    </tr>\n",
       "  </thead>\n",
       "  <tbody>\n",
       "    <tr>\n",
       "      <th>count</th>\n",
       "      <td>300153.000000</td>\n",
       "      <td>300153.000000</td>\n",
       "      <td>300153.000000</td>\n",
       "    </tr>\n",
       "    <tr>\n",
       "      <th>mean</th>\n",
       "      <td>12.221021</td>\n",
       "      <td>26.004751</td>\n",
       "      <td>20889.660523</td>\n",
       "    </tr>\n",
       "    <tr>\n",
       "      <th>std</th>\n",
       "      <td>7.191997</td>\n",
       "      <td>13.561004</td>\n",
       "      <td>22697.767366</td>\n",
       "    </tr>\n",
       "    <tr>\n",
       "      <th>min</th>\n",
       "      <td>0.830000</td>\n",
       "      <td>1.000000</td>\n",
       "      <td>1105.000000</td>\n",
       "    </tr>\n",
       "    <tr>\n",
       "      <th>25%</th>\n",
       "      <td>6.830000</td>\n",
       "      <td>15.000000</td>\n",
       "      <td>4783.000000</td>\n",
       "    </tr>\n",
       "    <tr>\n",
       "      <th>50%</th>\n",
       "      <td>11.250000</td>\n",
       "      <td>26.000000</td>\n",
       "      <td>7425.000000</td>\n",
       "    </tr>\n",
       "    <tr>\n",
       "      <th>75%</th>\n",
       "      <td>16.170000</td>\n",
       "      <td>38.000000</td>\n",
       "      <td>42521.000000</td>\n",
       "    </tr>\n",
       "    <tr>\n",
       "      <th>max</th>\n",
       "      <td>49.830000</td>\n",
       "      <td>49.000000</td>\n",
       "      <td>123071.000000</td>\n",
       "    </tr>\n",
       "  </tbody>\n",
       "</table>\n",
       "</div>"
      ],
      "text/plain": [
       "            duration      days_left          price\n",
       "count  300153.000000  300153.000000  300153.000000\n",
       "mean       12.221021      26.004751   20889.660523\n",
       "std         7.191997      13.561004   22697.767366\n",
       "min         0.830000       1.000000    1105.000000\n",
       "25%         6.830000      15.000000    4783.000000\n",
       "50%        11.250000      26.000000    7425.000000\n",
       "75%        16.170000      38.000000   42521.000000\n",
       "max        49.830000      49.000000  123071.000000"
      ]
     },
     "execution_count": 7,
     "metadata": {},
     "output_type": "execute_result"
    }
   ],
   "source": [
    "df.describe()"
   ]
  },
  {
   "cell_type": "code",
   "execution_count": 8,
   "metadata": {},
   "outputs": [
    {
     "data": {
      "text/html": [
       "<div>\n",
       "<style scoped>\n",
       "    .dataframe tbody tr th:only-of-type {\n",
       "        vertical-align: middle;\n",
       "    }\n",
       "\n",
       "    .dataframe tbody tr th {\n",
       "        vertical-align: top;\n",
       "    }\n",
       "\n",
       "    .dataframe thead th {\n",
       "        text-align: right;\n",
       "    }\n",
       "</style>\n",
       "<table border=\"1\" class=\"dataframe\">\n",
       "  <thead>\n",
       "    <tr style=\"text-align: right;\">\n",
       "      <th></th>\n",
       "      <th>duration</th>\n",
       "      <th>days_left</th>\n",
       "      <th>price</th>\n",
       "    </tr>\n",
       "  </thead>\n",
       "  <tbody>\n",
       "    <tr>\n",
       "      <th>duration</th>\n",
       "      <td>1.000000</td>\n",
       "      <td>-0.039157</td>\n",
       "      <td>0.204222</td>\n",
       "    </tr>\n",
       "    <tr>\n",
       "      <th>days_left</th>\n",
       "      <td>-0.039157</td>\n",
       "      <td>1.000000</td>\n",
       "      <td>-0.091949</td>\n",
       "    </tr>\n",
       "    <tr>\n",
       "      <th>price</th>\n",
       "      <td>0.204222</td>\n",
       "      <td>-0.091949</td>\n",
       "      <td>1.000000</td>\n",
       "    </tr>\n",
       "  </tbody>\n",
       "</table>\n",
       "</div>"
      ],
      "text/plain": [
       "           duration  days_left     price\n",
       "duration   1.000000  -0.039157  0.204222\n",
       "days_left -0.039157   1.000000 -0.091949\n",
       "price      0.204222  -0.091949  1.000000"
      ]
     },
     "execution_count": 8,
     "metadata": {},
     "output_type": "execute_result"
    }
   ],
   "source": [
    "df.corr().T"
   ]
  },
  {
   "cell_type": "code",
   "execution_count": 9,
   "metadata": {},
   "outputs": [
    {
     "data": {
      "text/plain": [
       "Indigo       704\n",
       "Air_India    218\n",
       "GO_FIRST     205\n",
       "SpiceJet     186\n",
       "Vistara      133\n",
       "AirAsia      115\n",
       "Name: airline, dtype: int64"
      ]
     },
     "execution_count": 9,
     "metadata": {},
     "output_type": "execute_result"
    }
   ],
   "source": [
    "df1=df.groupby(['flight','airline'],as_index=False).count()\n",
    "df1.airline.value_counts()"
   ]
  },
  {
   "cell_type": "code",
   "execution_count": 10,
   "metadata": {},
   "outputs": [
    {
     "data": {
      "image/png": "[encoded data removed]",
      "text/plain": [
       "<Figure size 1080x360 with 1 Axes>"
      ]
     },
     "metadata": {
      "needs_background": "light"
     },
     "output_type": "display_data"
    }
   ],
   "source": [
    "plt.figure(figsize=(15,5))\n",
    "sns.boxplot(x=df['airline'],y=df['price'],palette='hls')\n",
    "plt.title('Airlines Vs Price',fontsize=15)\n",
    "plt.xlabel('Airline',fontsize=15)\n",
    "plt.ylabel('Price',fontsize=15)\n",
    "plt.show()"
   ]
  },
  {
   "cell_type": "code",
   "execution_count": 11,
   "metadata": {},
   "outputs": [
    {
     "data": {
      "image/png": "[encoded data removed]",
      "text/plain": [
       "<Figure size 720x432 with 1 Axes>"
      ]
     },
     "metadata": {
      "needs_background": "light"
     },
     "output_type": "display_data"
    },
    {
     "data": {
      "image/png": "[encoded data removed]",
      "text/plain": [
       "<Figure size 720x432 with 1 Axes>"
      ]
     },
     "metadata": {
      "needs_background": "light"
     },
     "output_type": "display_data"
    },
    {
     "data": {
      "image/png": "[encoded data removed]",
      "text/plain": [
       "<Figure size 720x432 with 1 Axes>"
      ]
     },
     "metadata": {
      "needs_background": "light"
     },
     "output_type": "display_data"
    },
    {
     "data": {
      "image/png": "[encoded data removed]",
      "text/plain": [
       "<Figure size 720x432 with 1 Axes>"
      ]
     },
     "metadata": {
      "needs_background": "light"
     },
     "output_type": "display_data"
    },
    {
     "data": {
      "image/png": "[encoded data removed]",
      "text/plain": [
       "<Figure size 720x432 with 1 Axes>"
      ]
     },
     "metadata": {
      "needs_background": "light"
     },
     "output_type": "display_data"
    },
    {
     "data": {
      "image/png": "[encoded data removed]",
      "text/plain": [
       "<Figure size 720x432 with 1 Axes>"
      ]
     },
     "metadata": {
      "needs_background": "light"
     },
     "output_type": "display_data"
    },
    {
     "data": {
      "image/png": "[encoded data removed]",
      "text/plain": [
       "<Figure size 720x432 with 1 Axes>"
      ]
     },
     "metadata": {
      "needs_background": "light"
     },
     "output_type": "display_data"
    },
    {
     "data": {
      "image/png": "[encoded data removed]",
      "text/plain": [
       "<Figure size 720x432 with 1 Axes>"
      ]
     },
     "metadata": {
      "needs_background": "light"
     },
     "output_type": "display_data"
    }
   ],
   "source": [
    "# Distribution for categorical variables\n",
    "for feature in categorical_features:\n",
    "    plt.figure(figsize=(10, 6))\n",
    "    sns.countplot(x=feature, data=df)\n",
    "    plt.title(f\"{feature} Distribution\")\n",
    "    plt.show()\n"
   ]
  },
  {
   "cell_type": "code",
   "execution_count": 12,
   "metadata": {},
   "outputs": [
    {
     "data": {
      "image/png": "[encoded data removed]",
      "text/plain": [
       "<Figure size 720x432 with 1 Axes>"
      ]
     },
     "metadata": {
      "needs_background": "light"
     },
     "output_type": "display_data"
    },
    {
     "data": {
      "image/png": "[encoded data removed]",
      "text/plain": [
       "<Figure size 720x432 with 1 Axes>"
      ]
     },
     "metadata": {
      "needs_background": "light"
     },
     "output_type": "display_data"
    },
    {
     "data": {
      "image/png": "[encoded data removed]",
      "text/plain": [
       "<Figure size 720x432 with 1 Axes>"
      ]
     },
     "metadata": {
      "needs_background": "light"
     },
     "output_type": "display_data"
    }
   ],
   "source": [
    "# Distribution for continuous variables\n",
    "for feature in continuous_features:\n",
    "    plt.figure(figsize=(10, 6))\n",
    "    sns.histplot(df[feature], bins=30, kde=True)\n",
    "    plt.title(f\"{feature} Distribution\")\n",
    "    plt.show()"
   ]
  },
  {
   "cell_type": "markdown",
   "metadata": {},
   "source": [
    "# Transform continuous features into categorical features\n"
   ]
  },
  {
   "cell_type": "code",
   "execution_count": 13,
   "metadata": {},
   "outputs": [],
   "source": [
    "# Discretize continuous features into bins\n",
    "df['duration_bin'] = pd.cut(df['duration'], bins=3, labels=['short', 'medium', 'long'])\n",
    "df['days_left_bin'] = pd.cut(df['days_left'], bins=3, labels=['few', 'moderate', 'many'])\n",
    "df['price_bin'] = pd.cut(df['price'], bins=3, labels=['low', 'medium', 'high'])\n",
    "\n",
    "all_features_categorized = categorical_features + ['duration_bin', 'days_left_bin', 'price_bin']\n"
   ]
  },
  {
   "cell_type": "markdown",
   "metadata": {},
   "source": [
    "Make sure all values are boolean"
   ]
  },
  {
   "cell_type": "code",
   "execution_count": 14,
   "metadata": {},
   "outputs": [
    {
     "name": "stdout",
     "output_type": "stream",
     "text": [
      "   source_city_Bangalore  source_city_Chennai  source_city_Delhi  \\\n",
      "0                  False                False               True   \n",
      "1                  False                False               True   \n",
      "2                  False                False               True   \n",
      "3                  False                False               True   \n",
      "4                  False                False               True   \n",
      "\n",
      "   source_city_Hyderabad  source_city_Kolkata  source_city_Mumbai  \\\n",
      "0                  False                False               False   \n",
      "1                  False                False               False   \n",
      "2                  False                False               False   \n",
      "3                  False                False               False   \n",
      "4                  False                False               False   \n",
      "\n",
      "   departure_time_Afternoon  departure_time_Early_Morning  \\\n",
      "0                     False                         False   \n",
      "1                     False                          True   \n",
      "2                     False                          True   \n",
      "3                     False                         False   \n",
      "4                     False                         False   \n",
      "\n",
      "   departure_time_Evening  departure_time_Late_Night  ...  class_Economy  \\\n",
      "0                    True                      False  ...           True   \n",
      "1                   False                      False  ...           True   \n",
      "2                   False                      False  ...           True   \n",
      "3                   False                      False  ...           True   \n",
      "4                   False                      False  ...           True   \n",
      "\n",
      "   duration_bin_short  duration_bin_medium  duration_bin_long  \\\n",
      "0                True                False              False   \n",
      "1                True                False              False   \n",
      "2                True                False              False   \n",
      "3                True                False              False   \n",
      "4                True                False              False   \n",
      "\n",
      "   days_left_bin_few  days_left_bin_moderate  days_left_bin_many  \\\n",
      "0               True                   False               False   \n",
      "1               True                   False               False   \n",
      "2               True                   False               False   \n",
      "3               True                   False               False   \n",
      "4               True                   False               False   \n",
      "\n",
      "   price_bin_low  price_bin_medium  price_bin_high  \n",
      "0           True             False           False  \n",
      "1           True             False           False  \n",
      "2           True             False           False  \n",
      "3           True             False           False  \n",
      "4           True             False           False  \n",
      "\n",
      "[5 rows x 38 columns]\n"
     ]
    }
   ],
   "source": [
    "# One-hot encode categorical features\n",
    "encoded_data = pd.get_dummies(df[all_features_categorized].drop([\"flight\",\"airline\"],axis= 1))\n",
    "\n",
    "# Ensure all values in the DataFrame are boolean\n",
    "encoded_data = encoded_data.astype(bool)\n",
    "\n",
    "print(encoded_data.head())"
   ]
  },
  {
   "cell_type": "markdown",
   "metadata": {},
   "source": [
    "Create apriori and fp-growth rules"
   ]
  },
  {
   "cell_type": "code",
   "execution_count": 15,
   "metadata": {},
   "outputs": [
    {
     "name": "stderr",
     "output_type": "stream",
     "text": [
      "/Users/ezgi/opt/anaconda3/lib/python3.9/site-packages/mlxtend/frequent_patterns/fpcommon.py:109: DeprecationWarning: DataFrames with non-bool types result in worse computationalperformance and their support might be discontinued in the future.Please use a DataFrame with bool type\n",
      "  warnings.warn(\n"
     ]
    },
    {
     "name": "stdout",
     "output_type": "stream",
     "text": [
      "Apriori - Time taken: 2.0477 seconds\n",
      "Apriori - Number of frequent itemsets: 364\n",
      "Apriori - Number of rules generated: 1326\n"
     ]
    },
    {
     "name": "stderr",
     "output_type": "stream",
     "text": [
      "/Users/ezgi/opt/anaconda3/lib/python3.9/site-packages/mlxtend/frequent_patterns/fpcommon.py:109: DeprecationWarning: DataFrames with non-bool types result in worse computationalperformance and their support might be discontinued in the future.Please use a DataFrame with bool type\n",
      "  warnings.warn(\n"
     ]
    },
    {
     "name": "stdout",
     "output_type": "stream",
     "text": [
      "FP-Growth - Time taken: 2.3740 seconds\n",
      "FP-Growth - Number of frequent itemsets: 364\n",
      "FP-Growth - Number of rules generated: 1326\n"
     ]
    }
   ],
   "source": [
    "from mlxtend.frequent_patterns import apriori, fpgrowth,association_rules\n",
    "import time\n",
    "\n",
    "# Measure time for Apriori\n",
    "start_time = time.time()\n",
    "\n",
    "# Apply Apriori algorithm\n",
    "frequent_itemsets_apriori =apriori(pd.get_dummies(df[all_features_categorized].drop([\"flight\"],axis= 1)), min_support=0.1, use_colnames=True)\n",
    "\n",
    "# Generate association rules\n",
    "rules_apriori = association_rules(frequent_itemsets_apriori, metric=\"lift\", min_threshold=1)\n",
    "\n",
    "\n",
    "end_time = time.time()\n",
    "apriori_duration = end_time - start_time\n",
    "\n",
    "\n",
    "print(f\"Apriori - Time taken: {apriori_duration:.4f} seconds\")\n",
    "print(f\"Apriori - Number of frequent itemsets: {len(frequent_itemsets_apriori)}\")\n",
    "print(f\"Apriori - Number of rules generated: {len(rules_apriori)}\")\n",
    "\n",
    "# Measure time for FP-Growth\n",
    "start_time = time.time()\n",
    "\n",
    "# Run FP-Growth algorithm to find frequent itemsets\n",
    "frequent_itemsets_fpgrowth = fpgrowth(pd.get_dummies(df[all_features_categorized].drop([\"flight\"],axis= 1)), min_support=0.1, use_colnames=True)\n",
    "\n",
    "# Generate association rules\n",
    "rules_fpgrowth = association_rules(frequent_itemsets_fpgrowth, metric=\"lift\", min_threshold=1.0)\n",
    "\n",
    "end_time = time.time()\n",
    "fpgrowth_duration = end_time - start_time\n",
    "\n",
    "print(f\"FP-Growth - Time taken: {fpgrowth_duration:.4f} seconds\")\n",
    "print(f\"FP-Growth - Number of frequent itemsets: {len(frequent_itemsets_fpgrowth)}\")\n",
    "print(f\"FP-Growth - Number of rules generated: {len(rules_fpgrowth)}\")\n"
   ]
  },
  {
   "cell_type": "markdown",
   "metadata": {},
   "source": [
    "Select rules"
   ]
  },
  {
   "cell_type": "code",
   "execution_count": 17,
   "metadata": {},
   "outputs": [
    {
     "name": "stdout",
     "output_type": "stream",
     "text": [
      "                                         antecedents  \\\n",
      "143                       (class_Economy, stops_one)   \n",
      "147                  (duration_bin_short, stops_one)   \n",
      "151                       (price_bin_low, stops_one)   \n",
      "154              (class_Economy, duration_bin_short)   \n",
      "161                   (class_Economy, price_bin_low)   \n",
      "...                                              ...   \n",
      "1154  (class_Economy, duration_bin_short, stops_one)   \n",
      "1158             (duration_bin_short, price_bin_low)   \n",
      "1159             (class_Economy, duration_bin_short)   \n",
      "1160                      (price_bin_low, stops_one)   \n",
      "1162                      (class_Economy, stops_one)   \n",
      "\n",
      "                                            consequents  antecedent support  \\\n",
      "143                                    (airline_Indigo)            0.554920   \n",
      "147                                    (airline_Indigo)            0.628936   \n",
      "151                                    (airline_Indigo)            0.586687   \n",
      "154                                    (airline_Indigo)            0.554434   \n",
      "161                                    (airline_Indigo)            0.688532   \n",
      "...                                                 ...                 ...   \n",
      "1154                   (airline_Vistara, price_bin_low)            0.432673   \n",
      "1158        (class_Economy, airline_Vistara, stops_one)            0.598691   \n",
      "1159        (airline_Vistara, price_bin_low, stops_one)            0.554434   \n",
      "1160  (class_Economy, airline_Vistara, duration_bin_...            0.586687   \n",
      "1162  (airline_Vistara, duration_bin_short, price_bi...            0.554920   \n",
      "\n",
      "      consequent support   support  confidence      lift  leverage  \\\n",
      "143             0.143660  0.103834    0.187115  1.302482  0.024114   \n",
      "147             0.143660  0.103834    0.165094  1.149201  0.013481   \n",
      "151             0.143660  0.103834    0.176983  1.231957  0.019550   \n",
      "154             0.143660  0.143660    0.259111  1.803641  0.064010   \n",
      "161             0.143660  0.143660    0.208647  1.452365  0.044745   \n",
      "...                  ...       ...         ...       ...       ...   \n",
      "1154            0.255093  0.135141    0.312340  1.224416  0.024769   \n",
      "1158            0.188134  0.135141    0.225727  1.199822  0.022507   \n",
      "1159            0.203333  0.135141    0.243746  1.198753  0.022406   \n",
      "1160            0.166325  0.135141    0.230346  1.384913  0.037560   \n",
      "1162            0.190323  0.135141    0.243532  1.279575  0.029527   \n",
      "\n",
      "      conviction  zhangs_metric  \n",
      "143     1.053457       0.521783  \n",
      "147     1.025673       0.349886  \n",
      "151     1.040489       0.455547  \n",
      "154     1.155828       1.000000  \n",
      "161     1.082121       1.000000  \n",
      "...          ...            ...  \n",
      "1154    1.083249       0.323066  \n",
      "1158    1.048553       0.415001  \n",
      "1159    1.053439       0.372111  \n",
      "1160    1.083181       0.672453  \n",
      "1162    1.070339       0.490902  \n",
      "\n",
      "[89 rows x 10 columns] 89\n",
      "                                            antecedents  \\\n",
      "173                   (arrival_time_Evening, stops_one)   \n",
      "186                         (class_Business, stops_one)   \n",
      "218                       (price_bin_medium, stops_one)   \n",
      "229                (duration_bin_short, class_Business)   \n",
      "234                  (price_bin_medium, class_Business)   \n",
      "247              (price_bin_medium, duration_bin_short)   \n",
      "650     (duration_bin_short, class_Business, stops_one)   \n",
      "654                (duration_bin_short, class_Business)   \n",
      "663       (price_bin_medium, class_Business, stops_one)   \n",
      "667                  (price_bin_medium, class_Business)   \n",
      "668                       (price_bin_medium, stops_one)   \n",
      "669                         (class_Business, stops_one)   \n",
      "686   (price_bin_medium, duration_bin_short, stops_one)   \n",
      "690              (price_bin_medium, duration_bin_short)   \n",
      "691                       (price_bin_medium, stops_one)   \n",
      "698   (price_bin_medium, duration_bin_short, class_B...   \n",
      "702              (price_bin_medium, duration_bin_short)   \n",
      "703                  (price_bin_medium, class_Business)   \n",
      "704                (duration_bin_short, class_Business)   \n",
      "1122  (price_bin_medium, duration_bin_short, class_B...   \n",
      "1126  (price_bin_medium, duration_bin_short, class_B...   \n",
      "1127      (price_bin_medium, class_Business, stops_one)   \n",
      "1129  (price_bin_medium, duration_bin_short, stops_one)   \n",
      "1132    (duration_bin_short, class_Business, stops_one)   \n",
      "1137             (price_bin_medium, duration_bin_short)   \n",
      "1138                      (price_bin_medium, stops_one)   \n",
      "1140               (duration_bin_short, class_Business)   \n",
      "\n",
      "                                            consequents  antecedent support  \\\n",
      "173                                   (airline_Vistara)            0.226778   \n",
      "186                                   (airline_Vistara)            0.280863   \n",
      "218                                   (airline_Vistara)            0.244862   \n",
      "229                                   (airline_Vistara)            0.226155   \n",
      "234                                   (airline_Vistara)            0.248773   \n",
      "247                                   (airline_Vistara)            0.178036   \n",
      "650                                   (airline_Vistara)            0.196263   \n",
      "654                        (airline_Vistara, stops_one)            0.226155   \n",
      "663                                   (airline_Vistara)            0.244858   \n",
      "667                        (airline_Vistara, stops_one)            0.248773   \n",
      "668                   (airline_Vistara, class_Business)            0.244862   \n",
      "669                 (price_bin_medium, airline_Vistara)            0.280863   \n",
      "686                                   (airline_Vistara)            0.174784   \n",
      "690                        (airline_Vistara, stops_one)            0.178036   \n",
      "691               (airline_Vistara, duration_bin_short)            0.244862   \n",
      "698                                   (airline_Vistara)            0.178036   \n",
      "702                   (airline_Vistara, class_Business)            0.178036   \n",
      "703               (airline_Vistara, duration_bin_short)            0.248773   \n",
      "704                 (price_bin_medium, airline_Vistara)            0.226155   \n",
      "1122                                  (airline_Vistara)            0.174784   \n",
      "1126                       (airline_Vistara, stops_one)            0.178036   \n",
      "1127              (airline_Vistara, duration_bin_short)            0.244858   \n",
      "1129                  (airline_Vistara, class_Business)            0.174784   \n",
      "1132                (airline_Vistara, price_bin_medium)            0.196263   \n",
      "1137       (airline_Vistara, class_Business, stops_one)            0.178036   \n",
      "1138  (airline_Vistara, duration_bin_short, class_Bu...            0.244862   \n",
      "1140     (airline_Vistara, price_bin_medium, stops_one)            0.226155   \n",
      "\n",
      "      consequent support   support  confidence      lift  leverage  \\\n",
      "173             0.425979  0.115558    0.509564  1.196217  0.018955   \n",
      "186             0.425979  0.182280    0.649000  1.523548  0.062638   \n",
      "218             0.425979  0.162894    0.665247  1.561688  0.058588   \n",
      "229             0.425979  0.153905    0.680529  1.597563  0.057568   \n",
      "234             0.425979  0.166135    0.667818  1.567725  0.060163   \n",
      "247             0.425979  0.126062    0.708073  1.662223  0.050223   \n",
      "650             0.425979  0.134728    0.686466  1.611499  0.051124   \n",
      "654             0.370414  0.134728    0.595734  1.608290  0.050957   \n",
      "663             0.425979  0.162894    0.665256  1.561710  0.058589   \n",
      "667             0.370414  0.162894    0.654788  1.767717  0.070744   \n",
      "668             0.201860  0.162894    0.665247  3.295580  0.113466   \n",
      "669             0.166135  0.162894    0.579974  3.490977  0.116232   \n",
      "686             0.425979  0.123177    0.704739  1.654396  0.048723   \n",
      "690             0.370414  0.123177    0.691867  1.867819  0.057230   \n",
      "691             0.320230  0.123177    0.503048  1.570895  0.044765   \n",
      "698             0.425979  0.126062    0.708073  1.662223  0.050223   \n",
      "702             0.201860  0.126062    0.708073  3.507736  0.090124   \n",
      "703             0.320230  0.126062    0.506736  1.582414  0.046398   \n",
      "704             0.166135  0.126062    0.557417  3.355198  0.088490   \n",
      "1122            0.425979  0.123177    0.704739  1.654396  0.048723   \n",
      "1126            0.370414  0.123177    0.691867  1.867819  0.057230   \n",
      "1127            0.320230  0.123177    0.503055  1.570917  0.044766   \n",
      "1129            0.201860  0.123177    0.704739  3.491218  0.087895   \n",
      "1132            0.166135  0.123177    0.627612  3.777717  0.090571   \n",
      "1137            0.182280  0.123177    0.691867  3.795621  0.090725   \n",
      "1138            0.153905  0.123177    0.503048  3.268564  0.085492   \n",
      "1140            0.162894  0.123177    0.544659  3.343649  0.086338   \n",
      "\n",
      "      conviction  zhangs_metric  \n",
      "173     1.170429       0.212140  \n",
      "186     1.635386       0.477847  \n",
      "218     1.714759       0.476293  \n",
      "229     1.796786       0.483361  \n",
      "234     1.728032       0.482055  \n",
      "247     1.966315       0.484688  \n",
      "650     1.830806       0.472120  \n",
      "654     1.557354       0.488756  \n",
      "663     1.714805       0.476303  \n",
      "667     1.823764       0.578119  \n",
      "668     2.384265       0.922432  \n",
      "669     1.985271       0.992228  \n",
      "686     1.944110       0.479329  \n",
      "690     2.043228       0.565251  \n",
      "691     1.367878       0.481263  \n",
      "698     1.966315       0.484688  \n",
      "702     2.734037       0.869765  \n",
      "703     1.378107       0.489937  \n",
      "704     1.884085       0.907100  \n",
      "1122    1.944110       0.479329  \n",
      "1126    2.043228       0.565251  \n",
      "1127    1.367897       0.481273  \n",
      "1129    2.703163       0.864704  \n",
      "1132    2.239237       0.914839  \n",
      "1137    2.653790       0.896071  \n",
      "1138    1.702568       0.919110  \n",
      "1140    1.838417       0.905770   27\n"
     ]
    }
   ],
   "source": [
    "# Select airline related rules\n",
    "airline_related_rules = rules_apriori[rules_apriori['consequents'].apply(lambda x: 'airline' in str(x))]\n",
    "multi_feature_antecedents = airline_related_rules[airline_related_rules['antecedents'].apply(lambda x: len(x) > 1)]\n",
    "\n",
    "print(multi_feature_antecedents,len(multi_feature_antecedents))\n",
    "# Select rules with high confidence\n",
    "selected_rules = multi_feature_antecedents[(multi_feature_antecedents['confidence'] > 0.5)]\n",
    "\n",
    "# Display selected rules\n",
    "print(selected_rules,len(selected_rules))\n"
   ]
  },
  {
   "cell_type": "markdown",
   "metadata": {},
   "source": [
    "Create apriori features"
   ]
  },
  {
   "cell_type": "code",
   "execution_count": 20,
   "metadata": {},
   "outputs": [
    {
     "data": {
      "text/plain": [
       "(5, 11)"
      ]
     },
     "execution_count": 20,
     "metadata": {},
     "output_type": "execute_result"
    }
   ],
   "source": [
    "data_extended = df.copy()\n",
    "#Create binary features based on selected patterns\n",
    "for index, row in selected_rules.iterrows():\n",
    "    antecedents = list(row['antecedents'])\n",
    "    feature_name = '_'.join(antecedents)\n",
    "    data_extended[feature_name] = encoded_data[antecedents].all(axis=1).astype(int)\n",
    "\n",
    "# Display the new features\n",
    "multi_features_apriori = data_extended.drop(all_features_categorized,axis=1)\n",
    "multi_features_apriori = multi_features_apriori.drop(continuous_features,axis=1)\n",
    "multi_features_apriori.head(5).shape"
   ]
  },
  {
   "cell_type": "markdown",
   "metadata": {},
   "source": [
    "# Train Random Forest Model "
   ]
  },
  {
   "cell_type": "markdown",
   "metadata": {},
   "source": [
    "With only categorical values"
   ]
  },
  {
   "cell_type": "code",
   "execution_count": 23,
   "metadata": {},
   "outputs": [
    {
     "name": "stdout",
     "output_type": "stream",
     "text": [
      "Accuracy: 0.6162982459062818\n",
      "              precision    recall  f1-score   support\n",
      "\n",
      "     AirAsia       0.60      0.37      0.46      3250\n",
      "   Air_India       0.66      0.44      0.53     16334\n",
      "    GO_FIRST       0.48      0.36      0.41      4617\n",
      "      Indigo       0.56      0.64      0.60      8652\n",
      "    SpiceJet       0.48      0.26      0.34      1771\n",
      "     Vistara       0.64      0.83      0.72     25407\n",
      "\n",
      "    accuracy                           0.62     60031\n",
      "   macro avg       0.57      0.48      0.51     60031\n",
      "weighted avg       0.61      0.62      0.60     60031\n",
      "\n"
     ]
    }
   ],
   "source": [
    "from sklearn.model_selection import train_test_split\n",
    "from sklearn.ensemble import RandomForestClassifier\n",
    "from sklearn.metrics import accuracy_score, classification_report\n",
    "\n",
    "features = pd.get_dummies(df[categorical_features].drop(['airline',\"flight\"],axis=1))\n",
    "labels = df['airline']\n",
    "\n",
    "# Split data into training and test sets\n",
    "X_train, X_test, y_train, y_test = train_test_split(features, labels, test_size=0.2, random_state=42)\n",
    "\n",
    "# Train a Random Forest classifier\n",
    "clf = RandomForestClassifier(n_estimators=100, random_state=42)\n",
    "clf.fit(X_train, y_train)\n",
    "\n",
    "# Make predictions\n",
    "y_pred = clf.predict(X_test)\n",
    "\n",
    "# Evaluate the model\n",
    "print(\"Accuracy:\", accuracy_score(y_test, y_pred))\n",
    "print(classification_report(y_test, y_pred))\n"
   ]
  },
  {
   "cell_type": "markdown",
   "metadata": {},
   "source": [
    "with both categorical and continuous features"
   ]
  },
  {
   "cell_type": "code",
   "execution_count": 24,
   "metadata": {},
   "outputs": [
    {
     "name": "stdout",
     "output_type": "stream",
     "text": [
      "Accuracy: 0.9705985240958838\n",
      "              precision    recall  f1-score   support\n",
      "\n",
      "     AirAsia       0.97      0.95      0.96      3250\n",
      "   Air_India       0.97      0.97      0.97     16334\n",
      "    GO_FIRST       0.96      0.95      0.95      4617\n",
      "      Indigo       0.96      0.96      0.96      8652\n",
      "    SpiceJet       0.96      0.95      0.96      1771\n",
      "     Vistara       0.97      0.98      0.98     25407\n",
      "\n",
      "    accuracy                           0.97     60031\n",
      "   macro avg       0.97      0.96      0.96     60031\n",
      "weighted avg       0.97      0.97      0.97     60031\n",
      "\n"
     ]
    }
   ],
   "source": [
    "\n",
    "data = df.copy()\n",
    "\n",
    "X_categorical = pd.get_dummies(df[categorical_features].drop(['airline',\"flight\"],axis=1))\n",
    "\n",
    "features = pd.concat([X_categorical, data[continuous_features]], axis=1) \n",
    "labels = df['airline']\n",
    "\n",
    "# Split data into training and test sets\n",
    "X_train, X_test, y_train, y_test = train_test_split(features, labels, test_size=0.2, random_state=42)\n",
    "\n",
    "\n",
    "# Define the model\n",
    "model = RandomForestClassifier(n_estimators=100, random_state=42, class_weight='balanced')\n",
    "\n",
    "model.fit(X_train, y_train)\n",
    "\n",
    "# Make predictions\n",
    "y_pred = model.predict(X_test)\n",
    "\n",
    "# Evaluate the model\n",
    "print(\"Accuracy:\", accuracy_score(y_test, y_pred))\n",
    "print(classification_report(y_test, y_pred))\n"
   ]
  },
  {
   "cell_type": "markdown",
   "metadata": {},
   "source": [
    "# Cross Validation\n"
   ]
  },
  {
   "cell_type": "markdown",
   "metadata": {},
   "source": [
    "with only categorical values"
   ]
  },
  {
   "cell_type": "code",
   "execution_count": 25,
   "metadata": {},
   "outputs": [
    {
     "name": "stdout",
     "output_type": "stream",
     "text": [
      "Cross-validation accuracy scores: [0.54027086 0.5407706  0.54430211 0.54377811 0.54284524]\n",
      "Mean cross-validation accuracy: 0.542393385495344\n",
      "Standard deviation of cross-validation accuracy: 0.0016064503189180924\n"
     ]
    }
   ],
   "source": [
    "import pandas as pd\n",
    "from sklearn.model_selection import cross_val_score, StratifiedKFold\n",
    "from sklearn.ensemble import RandomForestClassifier\n",
    "from sklearn.preprocessing import OneHotEncoder\n",
    "\n",
    "X_categorical = pd.get_dummies(df[categorical_features].drop(['airline',\"flight\"],axis=1))\n",
    "features = X_categorical\n",
    "labels = df['airline']\n",
    "\n",
    "# Define the model\n",
    "model = RandomForestClassifier(n_estimators=100, random_state=42, class_weight='balanced')\n",
    "\n",
    "# Define cross-validation strategy\n",
    "cv = StratifiedKFold(n_splits=5, shuffle=True, random_state=42)\n",
    "\n",
    "# Perform cross-validation\n",
    "cv_scores = cross_val_score(model, features, labels, cv=cv, scoring='accuracy')\n",
    "\n",
    "# Print the cross-validation results\n",
    "print(f\"Cross-validation accuracy scores: {cv_scores}\")\n",
    "print(f\"Mean cross-validation accuracy: {cv_scores.mean()}\")\n",
    "print(f\"Standard deviation of cross-validation accuracy: {cv_scores.std()}\")\n"
   ]
  },
  {
   "cell_type": "markdown",
   "metadata": {},
   "source": [
    "with both categorical and continuous features"
   ]
  },
  {
   "cell_type": "code",
   "execution_count": 26,
   "metadata": {},
   "outputs": [
    {
     "name": "stdout",
     "output_type": "stream",
     "text": [
      "Cross-validation accuracy scores: [0.96876614 0.96869951 0.96959904 0.96841579 0.9687323 ]\n",
      "Mean cross-validation accuracy: 0.9688425551734691\n",
      "Standard deviation of cross-validation accuracy: 0.00039820994216913964\n"
     ]
    }
   ],
   "source": [
    "import pandas as pd\n",
    "from sklearn.model_selection import train_test_split, cross_val_score, StratifiedKFold\n",
    "from sklearn.ensemble import RandomForestClassifier\n",
    "from sklearn.preprocessing import OneHotEncoder, StandardScaler\n",
    "from sklearn.compose import ColumnTransformer\n",
    "\n",
    "# Load your data\n",
    "data = df.copy()\n",
    "\n",
    "\n",
    "# One-hot encode categorical features\n",
    "X_categorical = pd.get_dummies(df[categorical_features].drop(['airline',\"flight\"],axis=1))\n",
    "\n",
    "# Combine categorical and continuous features\n",
    "X = pd.concat([X_categorical,data[continuous_features]], axis=1)\n",
    "y = data['airline']\n",
    "\n",
    "# Define the model\n",
    "model = RandomForestClassifier(n_estimators=100, random_state=42, class_weight='balanced')\n",
    "\n",
    "# Define cross-validation strategy\n",
    "cv = StratifiedKFold(n_splits=5, shuffle=True, random_state=42)\n",
    "\n",
    "# Perform cross-validation\n",
    "cv_scores = cross_val_score(model, X, y, cv=cv, scoring='accuracy')\n",
    "\n",
    "# Print the cross-validation results\n",
    "print(f\"Cross-validation accuracy scores: {cv_scores}\")\n",
    "print(f\"Mean cross-validation accuracy: {cv_scores.mean()}\")\n",
    "print(f\"Standard deviation of cross-validation accuracy: {cv_scores.std()}\")\n"
   ]
  },
  {
   "cell_type": "markdown",
   "metadata": {},
   "source": [
    "# Train Random Forest with Pattern Mining\n"
   ]
  },
  {
   "cell_type": "markdown",
   "metadata": {},
   "source": [
    "X_categorical , continuous_features"
   ]
  },
  {
   "cell_type": "code",
   "execution_count": 27,
   "metadata": {},
   "outputs": [
    {
     "name": "stdout",
     "output_type": "stream",
     "text": [
      "Accuracy: 0.9620362812546851\n",
      "              precision    recall  f1-score   support\n",
      "\n",
      "     AirAsia       0.96      0.93      0.95      3250\n",
      "   Air_India       0.97      0.95      0.96     16334\n",
      "    GO_FIRST       0.95      0.94      0.94      4617\n",
      "      Indigo       0.95      0.95      0.95      8652\n",
      "    SpiceJet       0.95      0.95      0.95      1771\n",
      "     Vistara       0.97      0.98      0.97     25407\n",
      "\n",
      "    accuracy                           0.96     60031\n",
      "   macro avg       0.96      0.95      0.95     60031\n",
      "weighted avg       0.96      0.96      0.96     60031\n",
      "\n"
     ]
    }
   ],
   "source": [
    "\n",
    "X_categorical = pd.get_dummies(df[all_features_categorized].drop(['airline',\"flight\"],axis=1))\n",
    "\n",
    "features = pd.concat([X_categorical,data[continuous_features]], axis=1) \n",
    "labels = df['airline']\n",
    "\n",
    "# Split data into training and test sets\n",
    "X_train, X_test, y_train, y_test = train_test_split(features, labels, test_size=0.2, random_state=42)\n",
    "\n",
    "# Train a Random Forest classifier\n",
    "clf = RandomForestClassifier(n_estimators=100, random_state=42,class_weight='balanced')\n",
    "clf.fit(X_train, y_train)\n",
    "\n",
    "# Make predictions\n",
    "y_pred = clf.predict(X_test)\n",
    "\n",
    "# Evaluate the model\n",
    "print(\"Accuracy:\", accuracy_score(y_test, y_pred))\n",
    "print(classification_report(y_test, y_pred))\n"
   ]
  },
  {
   "cell_type": "markdown",
   "metadata": {},
   "source": [
    "multi_features_apriori , continuous_features"
   ]
  },
  {
   "cell_type": "code",
   "execution_count": 28,
   "metadata": {},
   "outputs": [
    {
     "name": "stdout",
     "output_type": "stream",
     "text": [
      "Accuracy: 0.833635954756709\n",
      "              precision    recall  f1-score   support\n",
      "\n",
      "     AirAsia       0.84      0.74      0.79      3250\n",
      "   Air_India       0.85      0.81      0.83     16334\n",
      "    GO_FIRST       0.76      0.74      0.75      4617\n",
      "      Indigo       0.78      0.80      0.79      8652\n",
      "    SpiceJet       0.74      0.68      0.71      1771\n",
      "     Vistara       0.86      0.90      0.88     25407\n",
      "\n",
      "    accuracy                           0.83     60031\n",
      "   macro avg       0.81      0.78      0.79     60031\n",
      "weighted avg       0.83      0.83      0.83     60031\n",
      "\n"
     ]
    }
   ],
   "source": [
    "data = df.copy()\n",
    "\n",
    "X_categorical = pd.get_dummies(data[all_features_categorized].drop(['airline',\"flight\"],axis=1))\n",
    "features = pd.concat([data[continuous_features],multi_features_apriori], axis=1) \n",
    "labels = df['airline']\n",
    "X_train, X_test, y_train, y_test = train_test_split(features, labels, test_size=0.2, random_state=42)\n",
    "model = RandomForestClassifier(n_estimators=100, random_state=42,class_weight='balanced')\n",
    "model.fit(X_train, y_train)\n",
    "\n",
    "# Make predictions\n",
    "y_pred = model.predict(X_test)\n",
    "\n",
    "# Evaluate the model\n",
    "print(\"Accuracy:\", accuracy_score(y_test, y_pred))\n",
    "print(classification_report(y_test, y_pred))\n"
   ]
  },
  {
   "cell_type": "markdown",
   "metadata": {},
   "source": [
    "X_categorical , multi_features_apriori"
   ]
  },
  {
   "cell_type": "code",
   "execution_count": 30,
   "metadata": {},
   "outputs": [
    {
     "name": "stdout",
     "output_type": "stream",
     "text": [
      "Accuracy: 0.5840815578617714\n",
      "              precision    recall  f1-score   support\n",
      "\n",
      "     AirAsia       0.34      0.72      0.46      3250\n",
      "   Air_India       0.71      0.52      0.60     16334\n",
      "    GO_FIRST       0.34      0.62      0.44      4617\n",
      "      Indigo       0.60      0.61      0.60      8652\n",
      "    SpiceJet       0.25      0.84      0.39      1771\n",
      "     Vistara       0.81      0.58      0.68     25407\n",
      "\n",
      "    accuracy                           0.58     60031\n",
      "   macro avg       0.51      0.65      0.53     60031\n",
      "weighted avg       0.67      0.58      0.61     60031\n",
      "\n"
     ]
    }
   ],
   "source": [
    "\n",
    "data = df.copy()\n",
    "\n",
    "X_categorical = pd.get_dummies(df[all_features_categorized].drop(['airline',\"flight\"],axis=1))\n",
    "\n",
    "features = pd.concat([multi_features_apriori, X_categorical], axis=1) \n",
    "labels = df['airline']\n",
    "\n",
    "# Split data into training and test sets\n",
    "X_train, X_test, y_train, y_test = train_test_split(features, labels, test_size=0.2, random_state=42)\n",
    "\n",
    "\n",
    "# Define the model\n",
    "model = RandomForestClassifier(n_estimators=100, random_state=42, class_weight='balanced')\n",
    "\n",
    "model.fit(X_train, y_train)\n",
    "\n",
    "# Make predictions\n",
    "y_pred = model.predict(X_test)\n",
    "\n",
    "# Evaluate the model\n",
    "print(\"Accuracy:\", accuracy_score(y_test, y_pred))\n",
    "print(classification_report(y_test, y_pred))\n"
   ]
  },
  {
   "cell_type": "markdown",
   "metadata": {},
   "source": [
    "multi_features_apriori"
   ]
  },
  {
   "cell_type": "code",
   "execution_count": 32,
   "metadata": {},
   "outputs": [
    {
     "name": "stdout",
     "output_type": "stream",
     "text": [
      "Accuracy: 0.2737085838983192\n",
      "              precision    recall  f1-score   support\n",
      "\n",
      "     AirAsia       0.09      0.87      0.16      3250\n",
      "   Air_India       0.47      0.18      0.26     16334\n",
      "    GO_FIRST       0.00      0.00      0.00      4617\n",
      "      Indigo       0.21      0.21      0.21      8652\n",
      "    SpiceJet       0.00      0.00      0.00      1771\n",
      "     Vistara       0.71      0.35      0.47     25407\n",
      "\n",
      "    accuracy                           0.27     60031\n",
      "   macro avg       0.25      0.27      0.18     60031\n",
      "weighted avg       0.46      0.27      0.31     60031\n",
      "\n"
     ]
    }
   ],
   "source": [
    "data = df.copy()\n",
    "\n",
    "features = multi_features_apriori\n",
    "labels = df['airline']\n",
    "X_train, X_test, y_train, y_test = train_test_split(features, labels, test_size=0.2, random_state=42)\n",
    "model = RandomForestClassifier(n_estimators=100, random_state=42,class_weight='balanced')\n",
    "model.fit(X_train, y_train)\n",
    "\n",
    "# Make predictions\n",
    "y_pred = model.predict(X_test)\n",
    "\n",
    "# Evaluate the model\n",
    "print(\"Accuracy:\", accuracy_score(y_test, y_pred))\n",
    "print(classification_report(y_test, y_pred))\n"
   ]
  },
  {
   "cell_type": "markdown",
   "metadata": {},
   "source": [
    "X_categorical"
   ]
  },
  {
   "cell_type": "code",
   "execution_count": 34,
   "metadata": {},
   "outputs": [
    {
     "name": "stdout",
     "output_type": "stream",
     "text": [
      "Accuracy: 0.5840482417417667\n",
      "              precision    recall  f1-score   support\n",
      "\n",
      "     AirAsia       0.34      0.72      0.46      3250\n",
      "   Air_India       0.71      0.52      0.60     16334\n",
      "    GO_FIRST       0.34      0.62      0.44      4617\n",
      "      Indigo       0.60      0.61      0.60      8652\n",
      "    SpiceJet       0.25      0.84      0.39      1771\n",
      "     Vistara       0.81      0.58      0.68     25407\n",
      "\n",
      "    accuracy                           0.58     60031\n",
      "   macro avg       0.51      0.65      0.53     60031\n",
      "weighted avg       0.67      0.58      0.61     60031\n",
      "\n"
     ]
    }
   ],
   "source": [
    "data = df.copy()\n",
    "\n",
    "X_categorical = pd.get_dummies(data[all_features_categorized].drop(['airline',\"flight\"],axis=1))\n",
    "features = X_categorical\n",
    "labels = df['airline']\n",
    "X_train, X_test, y_train, y_test = train_test_split(features, labels, test_size=0.2, random_state=42)\n",
    "model = RandomForestClassifier(n_estimators=100, random_state=42,class_weight='balanced')\n",
    "model.fit(X_train, y_train)\n",
    "\n",
    "# Make predictions\n",
    "y_pred = model.predict(X_test)\n",
    "\n",
    "# Evaluate the model\n",
    "print(\"Accuracy:\", accuracy_score(y_test, y_pred))\n",
    "print(classification_report(y_test, y_pred))\n"
   ]
  },
  {
   "cell_type": "markdown",
   "metadata": {},
   "source": [
    "continuous_features"
   ]
  },
  {
   "cell_type": "code",
   "execution_count": 35,
   "metadata": {},
   "outputs": [
    {
     "name": "stdout",
     "output_type": "stream",
     "text": [
      "Accuracy: 0.7586746847462145\n",
      "              precision    recall  f1-score   support\n",
      "\n",
      "     AirAsia       0.78      0.67      0.72      3250\n",
      "   Air_India       0.77      0.71      0.74     16334\n",
      "    GO_FIRST       0.64      0.60      0.62      4617\n",
      "      Indigo       0.71      0.75      0.73      8652\n",
      "    SpiceJet       0.66      0.54      0.60      1771\n",
      "     Vistara       0.79      0.84      0.82     25407\n",
      "\n",
      "    accuracy                           0.76     60031\n",
      "   macro avg       0.72      0.69      0.70     60031\n",
      "weighted avg       0.76      0.76      0.76     60031\n",
      "\n"
     ]
    }
   ],
   "source": [
    "data = df.copy()\n",
    "\n",
    "features = pd.concat([data[continuous_features]], axis=1) \n",
    "labels = df['airline']\n",
    "X_train, X_test, y_train, y_test = train_test_split(features, labels, test_size=0.2, random_state=42)\n",
    "model = RandomForestClassifier(n_estimators=100, random_state=42,class_weight='balanced')\n",
    "model.fit(X_train, y_train)\n",
    "\n",
    "# Make predictions\n",
    "y_pred = model.predict(X_test)\n",
    "\n",
    "# Evaluate the model\n",
    "print(\"Accuracy:\", accuracy_score(y_test, y_pred))\n",
    "print(classification_report(y_test, y_pred))\n"
   ]
  },
  {
   "cell_type": "markdown",
   "metadata": {},
   "source": [
    "X_categorical , multi_features_apriori , continuous_features"
   ]
  },
  {
   "cell_type": "code",
   "execution_count": 36,
   "metadata": {},
   "outputs": [
    {
     "name": "stdout",
     "output_type": "stream",
     "text": [
      "Accuracy: 0.9625193649947527\n",
      "              precision    recall  f1-score   support\n",
      "\n",
      "     AirAsia       0.97      0.93      0.95      3250\n",
      "   Air_India       0.97      0.96      0.96     16334\n",
      "    GO_FIRST       0.95      0.94      0.94      4617\n",
      "      Indigo       0.95      0.96      0.95      8652\n",
      "    SpiceJet       0.95      0.94      0.94      1771\n",
      "     Vistara       0.97      0.98      0.97     25407\n",
      "\n",
      "    accuracy                           0.96     60031\n",
      "   macro avg       0.96      0.95      0.95     60031\n",
      "weighted avg       0.96      0.96      0.96     60031\n",
      "\n"
     ]
    }
   ],
   "source": [
    "\n",
    "data = df.copy()\n",
    "\n",
    "X_categorical = pd.get_dummies(data[all_features_categorized].drop(['airline',\"flight\"],axis=1))\n",
    "\n",
    "features = pd.concat([X_categorical,multi_features_apriori,data[continuous_features]], axis=1) \n",
    "labels = df['airline']\n",
    "\n",
    "# Split data into training and test sets\n",
    "X_train, X_test, y_train, y_test = train_test_split(features, labels, test_size=0.2, random_state=42)\n",
    "\n",
    "\n",
    "# Define the model\n",
    "model = RandomForestClassifier(n_estimators=100, random_state=42)\n",
    "\n",
    "model.fit(X_train, y_train)\n",
    "\n",
    "# Make predictions\n",
    "y_pred = model.predict(X_test)\n",
    "\n",
    "# Evaluate the model\n",
    "print(\"Accuracy:\", accuracy_score(y_test, y_pred))\n",
    "print(classification_report(y_test, y_pred))\n"
   ]
  },
  {
   "cell_type": "markdown",
   "metadata": {},
   "source": [
    "# Statistical Significance Tests"
   ]
  },
  {
   "cell_type": "markdown",
   "metadata": {},
   "source": [
    "chi-square test"
   ]
  },
  {
   "cell_type": "code",
   "execution_count": 37,
   "metadata": {},
   "outputs": [],
   "source": [
    "categorical_rules = selected_rules[selected_rules['antecedents'].apply(lambda x: all(any(cf in str(item) for cf in categorical_features[2:]) for item in x))]\n",
    "encoded_data2 =  pd.get_dummies(df[all_features_categorized].drop([\"flight\"],axis= 1))\n"
   ]
  },
  {
   "cell_type": "code",
   "execution_count": 39,
   "metadata": {},
   "outputs": [
    {
     "name": "stdout",
     "output_type": "stream",
     "text": [
      "Rule: frozenset({'arrival_time_Evening', 'stops_one'}) → frozenset({'airline_Vistara'})\n",
      "Contingency Table:\n",
      "col_0       0      1\n",
      "row_0               \n",
      "0      138911  93174\n",
      "1       33383  34685\n",
      "Chi-Square Statistic: 2514.7695244121255\n",
      "P-Value: 0.0\n",
      "Degrees of Freedom: 1\n",
      "Expected Frequencies: \n",
      "[[133221.56696751  98863.43303249]\n",
      " [ 39072.43303249  28995.56696751]]\n",
      "\n",
      "Rule: frozenset({'class_Business', 'stops_one'}) → frozenset({'airline_Vistara'})\n",
      "Contingency Table:\n",
      "col_0       0      1\n",
      "row_0               \n",
      "0      142704  73147\n",
      "1       29590  54712\n",
      "Chi-Square Statistic: 23843.90082257097\n",
      "P-Value: 0.0\n",
      "Degrees of Freedom: 1\n",
      "Expected Frequencies: \n",
      "[[123902.91682575  91948.08317425]\n",
      " [ 48391.08317425  35910.91682575]]\n",
      "\n",
      "Rule: frozenset({'price_bin_medium', 'stops_one'}) → frozenset({'airline_Vistara'})\n",
      "Contingency Table:\n",
      "col_0       0      1\n",
      "row_0               \n",
      "0      147691  78966\n",
      "1       24603  48893\n",
      "Chi-Square Statistic: 22785.812706842662\n",
      "P-Value: 0.0\n",
      "Degrees of Freedom: 1\n",
      "Expected Frequencies: \n",
      "[[130105.78324388  96551.21675612]\n",
      " [ 42188.21675612  31307.78324388]]\n",
      "\n",
      "Rule: frozenset({'duration_bin_short', 'class_Business'}) → frozenset({'airline_Vistara'})\n",
      "Contingency Table:\n",
      "col_0       0      1\n",
      "row_0               \n",
      "0      150608  81664\n",
      "1       21686  46195\n",
      "Chi-Square Statistic: 23243.320758013608\n",
      "P-Value: 0.0\n",
      "Degrees of Freedom: 1\n",
      "Expected Frequencies: \n",
      "[[133328.9088165  98943.0911835]\n",
      " [ 38965.0911835  28915.9088165]]\n",
      "\n",
      "Rule: frozenset({'price_bin_medium', 'class_Business'}) → frozenset({'airline_Vistara'})\n",
      "Contingency Table:\n",
      "col_0       0      1\n",
      "row_0               \n",
      "0      147490  77993\n",
      "1       24804  49866\n",
      "Chi-Square Statistic: 23773.193402314388\n",
      "P-Value: 0.0\n",
      "Degrees of Freedom: 1\n",
      "Expected Frequencies: \n",
      "[[129431.88307963  96051.11692037]\n",
      " [ 42862.11692037  31807.88307963]]\n",
      "\n",
      "Rule: frozenset({'price_bin_medium', 'duration_bin_short'}) → frozenset({'airline_Vistara'})\n",
      "Contingency Table:\n",
      "col_0       0      1\n",
      "row_0               \n",
      "0      156694  90021\n",
      "1       15600  37838\n",
      "Chi-Square Statistic: 21156.243916369614\n",
      "P-Value: 0.0\n",
      "Degrees of Freedom: 1\n",
      "Expected Frequencies: \n",
      "[[141619.48809441 105095.51190559]\n",
      " [ 30674.51190559  22763.48809441]]\n",
      "\n",
      "Rule: frozenset({'duration_bin_short', 'class_Business', 'stops_one'}) → frozenset({'airline_Vistara'})\n",
      "Contingency Table:\n",
      "col_0       0      1\n",
      "row_0               \n",
      "0      153824  87420\n",
      "1       18470  40439\n",
      "Chi-Square Statistic: 20337.272307706757\n",
      "P-Value: 0.0\n",
      "Degrees of Freedom: 1\n",
      "Expected Frequencies: \n",
      "[[138479.02148571 102764.97851429]\n",
      " [ 33814.97851429  25094.02148571]]\n",
      "\n",
      "Rule: frozenset({'duration_bin_short', 'class_Business'}) → frozenset({'airline_Vistara', 'stops_one'})\n",
      "Contingency Table:\n",
      "col_0       0      1\n",
      "row_0               \n",
      "0      161530  70742\n",
      "1       27442  40439\n",
      "Chi-Square Statistic: 19095.003799747665\n",
      "P-Value: 0.0\n",
      "Degrees of Freedom: 1\n",
      "Expected Frequencies: \n",
      "[[146235.1013783  86036.8986217]\n",
      " [ 42736.8986217  25144.1013783]]\n",
      "\n",
      "Rule: frozenset({'price_bin_medium', 'class_Business', 'stops_one'}) → frozenset({'airline_Vistara'})\n",
      "Contingency Table:\n",
      "col_0       0      1\n",
      "row_0               \n",
      "0      147692  78966\n",
      "1       24602  48893\n",
      "Chi-Square Statistic: 22787.126177468876\n",
      "P-Value: 0.0\n",
      "Degrees of Freedom: 1\n",
      "Expected Frequencies: \n",
      "[[130106.35726446  96551.64273554]\n",
      " [ 42187.64273554  31307.35726446]]\n",
      "\n",
      "Rule: frozenset({'price_bin_medium', 'class_Business'}) → frozenset({'airline_Vistara', 'stops_one'})\n",
      "Contingency Table:\n",
      "col_0       0      1\n",
      "row_0               \n",
      "0      163195  62288\n",
      "1       25777  48893\n",
      "Chi-Square Statistic: 34465.89751322108\n",
      "P-Value: 0.0\n",
      "Degrees of Freedom: 1\n",
      "Expected Frequencies: \n",
      "[[141960.84488911  83522.15511089]\n",
      " [ 47011.15511089  27658.84488911]]\n",
      "\n",
      "Rule: frozenset({'price_bin_medium', 'stops_one'}) → frozenset({'airline_Vistara', 'class_Business'})\n",
      "Contingency Table:\n",
      "col_0       0      1\n",
      "row_0               \n",
      "0      214961  11696\n",
      "1       24603  48893\n",
      "Chi-Square Statistic: 129712.45412254924\n",
      "P-Value: 0.0\n",
      "Degrees of Freedom: 1\n",
      "Expected Frequencies: \n",
      "[[180903.93082195  45753.06917805]\n",
      " [ 58660.06917805  14835.93082195]]\n",
      "\n",
      "Rule: frozenset({'class_Business', 'stops_one'}) → frozenset({'price_bin_medium', 'airline_Vistara'})\n",
      "Contingency Table:\n",
      "col_0       0      1\n",
      "row_0               \n",
      "0      214878    973\n",
      "1       35409  48893\n",
      "Chi-Square Statistic: 144917.10865338382\n",
      "P-Value: 0.0\n",
      "Degrees of Freedom: 1\n",
      "Expected Frequencies: \n",
      "[[179990.53561684  35860.46438316]\n",
      " [ 70296.46438316  14005.53561684]]\n",
      "\n",
      "Rule: frozenset({'price_bin_medium', 'duration_bin_short', 'stops_one'}) → frozenset({'airline_Vistara'})\n",
      "Contingency Table:\n",
      "col_0       0      1\n",
      "row_0               \n",
      "0      156804  90887\n",
      "1       15490  36972\n",
      "Chi-Square Statistic: 20201.801743259435\n",
      "P-Value: 0.0\n",
      "Degrees of Freedom: 1\n",
      "Expected Frequencies: \n",
      "[[142179.73218325 105511.26781675]\n",
      " [ 30114.26781675  22347.73218325]]\n",
      "\n",
      "Rule: frozenset({'price_bin_medium', 'duration_bin_short'}) → frozenset({'airline_Vistara', 'stops_one'})\n",
      "Contingency Table:\n",
      "col_0       0      1\n",
      "row_0               \n",
      "0      172506  74209\n",
      "1       16466  36972\n",
      "Chi-Square Statistic: 28804.728309031125\n",
      "P-Value: 0.0\n",
      "Degrees of Freedom: 1\n",
      "Expected Frequencies: \n",
      "[[155328.20588167  91386.79411833]\n",
      " [ 33643.79411833  19794.20588167]]\n",
      "\n",
      "Rule: frozenset({'price_bin_medium', 'stops_one'}) → frozenset({'airline_Vistara', 'duration_bin_short'})\n",
      "Contingency Table:\n",
      "col_0       0      1\n",
      "row_0               \n",
      "0      167511  59146\n",
      "1       36524  36972\n",
      "Chi-Square Statistic: 14942.309259630616\n",
      "P-Value: 0.0\n",
      "Degrees of Freedom: 1\n",
      "Expected Frequencies: \n",
      "[[154074.62525779  72582.37474221]\n",
      " [ 49960.37474221  23535.62525779]]\n",
      "\n",
      "Rule: frozenset({'price_bin_medium', 'duration_bin_short', 'class_Business'}) → frozenset({'airline_Vistara'})\n",
      "Contingency Table:\n",
      "col_0       0      1\n",
      "row_0               \n",
      "0      156694  90021\n",
      "1       15600  37838\n",
      "Chi-Square Statistic: 21156.243916369614\n",
      "P-Value: 0.0\n",
      "Degrees of Freedom: 1\n",
      "Expected Frequencies: \n",
      "[[141619.48809441 105095.51190559]\n",
      " [ 30674.51190559  22763.48809441]]\n",
      "\n",
      "Rule: frozenset({'price_bin_medium', 'duration_bin_short'}) → frozenset({'airline_Vistara', 'class_Business'})\n",
      "Contingency Table:\n",
      "col_0       0      1\n",
      "row_0               \n",
      "0      223964  22751\n",
      "1       15600  37838\n",
      "Chi-Square Statistic: 103399.17632861424\n",
      "P-Value: 0.0\n",
      "Degrees of Freedom: 1\n",
      "Expected Frequencies: \n",
      "[[196913.0152289  49801.9847711]\n",
      " [ 42650.9847711  10787.0152289]]\n",
      "\n",
      "Rule: frozenset({'price_bin_medium', 'class_Business'}) → frozenset({'airline_Vistara', 'duration_bin_short'})\n",
      "Contingency Table:\n",
      "col_0       0      1\n",
      "row_0               \n",
      "0      167203  58280\n",
      "1       36832  37838\n",
      "Chi-Square Statistic: 15882.058707428736\n",
      "P-Value: 0.0\n",
      "Degrees of Freedom: 1\n",
      "Expected Frequencies: \n",
      "[[153276.5752966  72206.4247034]\n",
      " [ 50758.4247034  23911.5752966]]\n",
      "\n",
      "Rule: frozenset({'duration_bin_short', 'class_Business'}) → frozenset({'price_bin_medium', 'airline_Vistara'})\n",
      "Contingency Table:\n",
      "col_0       0      1\n",
      "row_0               \n",
      "0      220244  12028\n",
      "1       30043  37838\n",
      "Chi-Square Statistic: 96939.02201549428\n",
      "P-Value: 0.0\n",
      "Degrees of Freedom: 1\n",
      "Expected Frequencies: \n",
      "[[193683.42833155  38588.57166845]\n",
      " [ 56603.57166845  11277.42833155]]\n",
      "\n",
      "Rule: frozenset({'price_bin_medium', 'duration_bin_short', 'class_Business', 'stops_one'}) → frozenset({'airline_Vistara'})\n",
      "Contingency Table:\n",
      "col_0       0      1\n",
      "row_0               \n",
      "0      156804  90887\n",
      "1       15490  36972\n",
      "Chi-Square Statistic: 20201.801743259435\n",
      "P-Value: 0.0\n",
      "Degrees of Freedom: 1\n",
      "Expected Frequencies: \n",
      "[[142179.73218325 105511.26781675]\n",
      " [ 30114.26781675  22347.73218325]]\n",
      "\n",
      "Rule: frozenset({'price_bin_medium', 'duration_bin_short', 'class_Business'}) → frozenset({'airline_Vistara', 'stops_one'})\n",
      "Contingency Table:\n",
      "col_0       0      1\n",
      "row_0               \n",
      "0      172506  74209\n",
      "1       16466  36972\n",
      "Chi-Square Statistic: 28804.728309031125\n",
      "P-Value: 0.0\n",
      "Degrees of Freedom: 1\n",
      "Expected Frequencies: \n",
      "[[155328.20588167  91386.79411833]\n",
      " [ 33643.79411833  19794.20588167]]\n",
      "\n",
      "Rule: frozenset({'price_bin_medium', 'class_Business', 'stops_one'}) → frozenset({'airline_Vistara', 'duration_bin_short'})\n",
      "Contingency Table:\n",
      "col_0       0      1\n",
      "row_0               \n",
      "0      167512  59146\n",
      "1       36523  36972\n",
      "Chi-Square Statistic: 14943.158928465686\n",
      "P-Value: 0.0\n",
      "Degrees of Freedom: 1\n",
      "Expected Frequencies: \n",
      "[[154075.30502777  72582.69497223]\n",
      " [ 49959.69497223  23535.30502777]]\n",
      "\n",
      "Rule: frozenset({'price_bin_medium', 'duration_bin_short', 'stops_one'}) → frozenset({'airline_Vistara', 'class_Business'})\n",
      "Contingency Table:\n",
      "col_0       0      1\n",
      "row_0               \n",
      "0      224074  23617\n",
      "1       15490  36972\n",
      "Chi-Square Statistic: 99783.01951146519\n",
      "P-Value: 0.0\n",
      "Degrees of Freedom: 1\n",
      "Expected Frequencies: \n",
      "[[197691.99949359  49999.00050641]\n",
      " [ 41872.00050641  10589.99949359]]\n",
      "\n",
      "Rule: frozenset({'duration_bin_short', 'class_Business', 'stops_one'}) → frozenset({'airline_Vistara', 'price_bin_medium'})\n",
      "Contingency Table:\n",
      "col_0       0      1\n",
      "row_0               \n",
      "0      228350  12894\n",
      "1       21937  36972\n",
      "Chi-Square Statistic: 112666.33191090779\n",
      "P-Value: 0.0\n",
      "Degrees of Freedom: 1\n",
      "Expected Frequencies: \n",
      "[[201164.86268003  40079.13731997]\n",
      " [ 49122.13731997   9786.86268003]]\n",
      "\n",
      "Rule: frozenset({'price_bin_medium', 'duration_bin_short'}) → frozenset({'airline_Vistara', 'class_Business', 'stops_one'})\n",
      "Contingency Table:\n",
      "col_0       0      1\n",
      "row_0               \n",
      "0      228975  17740\n",
      "1       16466  36972\n",
      "Chi-Square Statistic: 113259.19311945201\n",
      "P-Value: 0.0\n",
      "Degrees of Freedom: 1\n",
      "Expected Frequencies: \n",
      "[[201743.69843047  44971.30156953]\n",
      " [ 43697.30156953   9740.69843047]]\n",
      "\n",
      "Rule: frozenset({'price_bin_medium', 'stops_one'}) → frozenset({'airline_Vistara', 'duration_bin_short', 'class_Business'})\n",
      "Contingency Table:\n",
      "col_0       0      1\n",
      "row_0               \n",
      "0      217434   9223\n",
      "1       36524  36972\n",
      "Chi-Square Statistic: 91107.76122848489\n",
      "P-Value: 0.0\n",
      "Degrees of Freedom: 1\n",
      "Expected Frequencies: \n",
      "[[191773.39025764  34883.60974236]\n",
      " [ 62184.60974236  11311.39025764]]\n",
      "\n",
      "Rule: frozenset({'duration_bin_short', 'class_Business'}) → frozenset({'airline_Vistara', 'price_bin_medium', 'stops_one'})\n",
      "Contingency Table:\n",
      "col_0       0      1\n",
      "row_0               \n",
      "0      220351  11921\n",
      "1       30909  36972\n",
      "Chi-Square Statistic: 93753.15018203051\n",
      "P-Value: 0.0\n",
      "Degrees of Freedom: 1\n",
      "Expected Frequencies: \n",
      "[[194436.37984628  37835.62015372]\n",
      " [ 56823.62015372  11057.37984628]]\n",
      "\n"
     ]
    }
   ],
   "source": [
    "from scipy.stats import chi2_contingency\n",
    "\n",
    "# Function to calculate and print contingency table and Chi-Square results for a given rule\n",
    "def chi_square_test_for_rule(rule):\n",
    "    # Create a binary feature for the antecedents\n",
    "    antecedents_condition = encoded_data2[list(rule['antecedents'])].all(axis=1).astype(int)\n",
    "    \n",
    "    # Create a binary feature for the consequent\n",
    "    consequent_condition = encoded_data2[list(rule['consequents'])].all(axis=1).astype(int)\n",
    "    \n",
    "    # Create the contingency table\n",
    "    contingency_table = pd.crosstab(antecedents_condition, consequent_condition)\n",
    "    \n",
    "    # Perform the Chi-Square test\n",
    "    chi2, p, dof, ex = chi2_contingency(contingency_table)\n",
    "    \n",
    "    # Print the results\n",
    "    print(f\"Rule: {rule['antecedents']} → {rule['consequents']}\")\n",
    "    print(\"Contingency Table:\")\n",
    "    print(contingency_table)\n",
    "    print(f\"Chi-Square Statistic: {chi2}\")\n",
    "    print(f\"P-Value: {p}\")\n",
    "    print(f\"Degrees of Freedom: {dof}\")\n",
    "    print(f\"Expected Frequencies: \\n{ex}\\n\")\n",
    "    \n",
    "    return chi2, p\n",
    "\n",
    "# Apply the Chi-Square test to each categorical rule\n",
    "for _, rule in selected_rules.iterrows():\n",
    "    chi_square_test_for_rule(rule)"
   ]
  },
  {
   "cell_type": "markdown",
   "metadata": {},
   "source": [
    "Statistical Significance: All rules have p-values of 0.0, indicating that the associations observed between the antecedents and the consequent are statistically significant.\n",
    "\n",
    "Association Strength: The Chi-Square statistics are very high indicating strong associations.\n",
    "\n",
    "Practical Implications: The rules suggest that certain combinations of flight attributes (like Business class and one stop) significantly increase the likelihood of the flight being operated by Vistara, especially when these flights are in the medium price range."
   ]
  }
 ],
 "metadata": {
  "kernelspec": {
   "display_name": "base",
   "language": "python",
   "name": "python3"
  },
  "language_info": {
   "codemirror_mode": {
    "name": "ipython",
    "version": 3
   },
   "file_extension": ".py",
   "mimetype": "text/x-python",
   "name": "python",
   "nbconvert_exporter": "python",
   "pygments_lexer": "ipython3",
   "version": "3.9.7"
  }
 },
 "nbformat": 4,
 "nbformat_minor": 2
}
